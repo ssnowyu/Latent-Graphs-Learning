{
 "cells": [
  {
   "cell_type": "code",
   "execution_count": 1,
   "metadata": {},
   "outputs": [
    {
     "data": {
      "text/plain": [
       "[('drug', 'interacts', 'drug'),\n",
       " ('drug', 'interacts', 'gene'),\n",
       " ('drug', 'treats', 'disease')]"
      ]
     },
     "execution_count": 1,
     "metadata": {},
     "output_type": "execute_result"
    }
   ],
   "source": [
    "import dgl\n",
    "import torch as th\n",
    "\n",
    "# 创建一个具有3种节点类型和3种边类型的异构图\n",
    "graph_data = {\n",
    "    (\"drug\", \"interacts\", \"drug\"): (th.tensor([0, 1]), th.tensor([1, 2])),\n",
    "    (\"drug\", \"interacts\", \"gene\"): (th.tensor([0, 1]), th.tensor([2, 3])),\n",
    "    (\"drug\", \"treats\", \"disease\"): (th.tensor([1]), th.tensor([2])),\n",
    "}\n",
    "g = dgl.heterograph(graph_data)\n",
    "g.ntypes\n",
    "g.etypes\n",
    "g.canonical_etypes"
   ]
  },
  {
   "cell_type": "code",
   "execution_count": 16,
   "metadata": {},
   "outputs": [
    {
     "data": {
      "text/plain": [
       "(tensor([1]), tensor([2]))"
      ]
     },
     "execution_count": 16,
     "metadata": {},
     "output_type": "execute_result"
    }
   ],
   "source": [
    "g.edges(etype=\"treats\")"
   ]
  }
 ],
 "metadata": {
  "kernelspec": {
   "display_name": "graph-learning",
   "language": "python",
   "name": "python3"
  },
  "language_info": {
   "codemirror_mode": {
    "name": "ipython",
    "version": 3
   },
   "file_extension": ".py",
   "mimetype": "text/x-python",
   "name": "python",
   "nbconvert_exporter": "python",
   "pygments_lexer": "ipython3",
   "version": "3.9.18"
  }
 },
 "nbformat": 4,
 "nbformat_minor": 2
}
